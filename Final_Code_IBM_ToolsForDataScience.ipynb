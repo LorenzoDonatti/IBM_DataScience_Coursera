{
    "cells": [
        {
            "cell_type": "markdown",
            "metadata": {},
            "source": "<center>\n    <img src=\"https://cf-courses-data.s3.us.cloud-object-storage.appdomain.cloud/IBMDeveloperSkillsNetwork-DS0105EN-SkillsNetwork/labs/Module2/images/SN_web_lightmode.png\" width=\"300\" alt=\"cognitiveclass.ai logo\"  />\n</center>\n"
        },
        {
            "cell_type": "markdown",
            "metadata": {
                "tags": []
            },
            "source": "#### Add your code below following the instructions given in the course\n"
        },
        {
            "cell_type": "markdown",
            "metadata": {
                "tags": []
            },
            "source": "# My Jupyter Notebook on IBM Watson Studio"
        },
        {
            "cell_type": "markdown",
            "metadata": {},
            "source": "Author: **Lorenzo Moreira Donatti**\n\nOccupation: Computer Engineering Student"
        },
        {
            "cell_type": "markdown",
            "metadata": {},
            "source": "*I am interested in Data Science because since the initials semesters in college I always have been passionate by math, statistics and programming.*\n\n*So, I found Data Science, that can be defined by the merge of this three knowledge areas.*"
        },
        {
            "cell_type": "markdown",
            "metadata": {},
            "source": "### This code has the objective to sum two numbers defined by the variables a and b."
        },
        {
            "cell_type": "code",
            "execution_count": 3,
            "metadata": {},
            "outputs": [
                {
                    "name": "stdout",
                    "output_type": "stream",
                    "text": "30\n"
                }
            ],
            "source": "a = 10\nb = 20\ns = a + b\n\nprint(s)"
        },
        {
            "cell_type": "markdown",
            "metadata": {},
            "source": ">By completing this course, I got in touch about different tools used by Data Scientists. Moreover, IBM provides a bunch of useful Softwares designed to help Data Scientists.\n>_These Softwares are present in all steps of a Data Science workflow, since the Data acquisition until the deployment. For example:_\n>  - `SPSS Modeler`\n>  - `SPSS Statistics`\n>  - `Auto AI` \n>\n> For more instructions visit __[https://www.ibm.com/spss](https://www.ibm.com/spss)__  "
        }
    ],
    "metadata": {
        "kernelspec": {
            "display_name": "Python 3.9",
            "language": "python",
            "name": "python3"
        },
        "language_info": {
            "codemirror_mode": {
                "name": "ipython",
                "version": 3
            },
            "file_extension": ".py",
            "mimetype": "text/x-python",
            "name": "python",
            "nbconvert_exporter": "python",
            "pygments_lexer": "ipython3",
            "version": "3.9.13"
        }
    },
    "nbformat": 4,
    "nbformat_minor": 4
}